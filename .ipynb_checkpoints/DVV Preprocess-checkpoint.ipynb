{
 "cells": [
  {
   "cell_type": "code",
   "execution_count": 1,
   "metadata": {},
   "outputs": [],
   "source": [
    "# My package processing all scout files stored in selected folder\n",
    "from DV_Package import DVV_GameData\n",
    "from DV_Package import DVV_CleanData as cl\n",
    "\n",
    "import pandas as pd"
   ]
  },
  {
   "cell_type": "code",
   "execution_count": 2,
   "metadata": {},
   "outputs": [],
   "source": [
    "%matplotlib inline"
   ]
  },
  {
   "cell_type": "markdown",
   "metadata": {},
   "source": [
    "# 1) Process scout files"
   ]
  },
  {
   "cell_type": "code",
   "execution_count": 3,
   "metadata": {},
   "outputs": [],
   "source": [
    "# Directory for unprocessed data\n",
    "dv_directory = 'Game_data_scouts//'"
   ]
  },
  {
   "cell_type": "code",
   "execution_count": 4,
   "metadata": {
    "scrolled": true
   },
   "outputs": [],
   "source": [
    "Games_List = DVV_GameData.Process_all_scoutfiles(dv_directory)"
   ]
  },
  {
   "cell_type": "markdown",
   "metadata": {},
   "source": [
    "# 2) Check outcome data consistency"
   ]
  },
  {
   "cell_type": "markdown",
   "metadata": {},
   "source": [
    "### a) Create teamporary databases"
   ]
  },
  {
   "cell_type": "code",
   "execution_count": 5,
   "metadata": {},
   "outputs": [],
   "source": [
    "team_db = Games_List.team_db\n",
    "ind_db = Games_List.ind_db"
   ]
  },
  {
   "cell_type": "markdown",
   "metadata": {},
   "source": [
    "### b) Check consistency of both db's"
   ]
  },
  {
   "cell_type": "code",
   "execution_count": 6,
   "metadata": {},
   "outputs": [
    {
     "name": "stdout",
     "output_type": "stream",
     "text": [
      "Inspection result:\n",
      "N of teams based on unique codes = 11\n",
      "N of teams based on unique names = 16\n"
     ]
    }
   ],
   "source": [
    "cl.check_df_consistency(team_db)"
   ]
  },
  {
   "cell_type": "code",
   "execution_count": 7,
   "metadata": {},
   "outputs": [
    {
     "name": "stdout",
     "output_type": "stream",
     "text": [
      "Inspection result:\n",
      "N of players based on unique codes = 174\n",
      "N of players based on unique names = 168\n"
     ]
    }
   ],
   "source": [
    "cl.check_df_consistency(ind_db)"
   ]
  },
  {
   "cell_type": "markdown",
   "metadata": {},
   "source": [
    "### c) Show which data are excessive in both db's"
   ]
  },
  {
   "cell_type": "code",
   "execution_count": 8,
   "metadata": {},
   "outputs": [
    {
     "name": "stdout",
     "output_type": "stream",
     "text": [
      "Names appearing more than once for same code:\n",
      "5765 - Volleyball Bisons Bühl, Volley Bisons Bühl\n",
      "5773 - Netzhoppers KW-Bestensee, NETZHOPPERS KW-Bestensee\n",
      "5761 - SWD powervolleys DÜREN , SWD powervolleys Düren, SWD powervolleys DÜREN\n",
      "5790 - United Volleys Frankfurt, United Volleys Frankfurt \n",
      "---------------------------------------------\n",
      "Codes appearing more than once for same name:\n"
     ]
    }
   ],
   "source": [
    "t_names, t_codes = cl.show_excessive_data(team_db)"
   ]
  },
  {
   "cell_type": "code",
   "execution_count": 9,
   "metadata": {},
   "outputs": [
    {
     "name": "stdout",
     "output_type": "stream",
     "text": [
      "Names appearing more than once for same code:\n",
      "TRE-JON - Jonas Treder, Jonas Tredor\n",
      "---------------------------------------------\n",
      "Codes appearing more than once for same name:\n",
      "Simon Gallas - 5, 8309\n",
      "Leon Dervisaj - 8430, DER-LEO\n",
      "Thomas Ranner - RAN-THO, Ran-Tho\n",
      "Theo Mohwinkel - MOH-THE, Moh-The, 99\n",
      "Linus Engelmann - ENG-LIN, 7870\n",
      "Moritz Malcher - AAA-AAA, MOR_MAL\n"
     ]
    }
   ],
   "source": [
    "ind_names, ind_codes = cl.show_excessive_data(ind_db)"
   ]
  },
  {
   "cell_type": "markdown",
   "metadata": {},
   "source": [
    "# 3) Fix spotted issues"
   ]
  },
  {
   "cell_type": "markdown",
   "metadata": {},
   "source": [
    "### a) Fix all problems necessary for team_db"
   ]
  },
  {
   "cell_type": "code",
   "execution_count": 10,
   "metadata": {},
   "outputs": [
    {
     "name": "stdout",
     "output_type": "stream",
     "text": [
      "Currently working on code: 5765\n",
      "Type - 0 to use code: Volleyball Bisons Bühl\n",
      "Type - 1 to use code: Volley Bisons Bühl\n",
      "Type your selection: 0\n",
      "\n",
      "\n",
      "Currently working on code: 5773\n",
      "Type - 0 to use code: Netzhoppers KW-Bestensee\n",
      "Type - 1 to use code: NETZHOPPERS KW-Bestensee\n",
      "Type your selection: 0\n",
      "\n",
      "\n",
      "Currently working on code: 5761\n",
      "Type - 0 to use code: SWD powervolleys DÜREN \n",
      "Type - 1 to use code: SWD powervolleys Düren\n",
      "Type - 2 to use code: SWD powervolleys DÜREN\n",
      "Type your selection: 0\n",
      "\n",
      "\n",
      "Currently working on code: 5790\n",
      "Type - 0 to use code: United Volleys Frankfurt\n",
      "Type - 1 to use code: United Volleys Frankfurt \n",
      "Type your selection: 0\n",
      "\n",
      "\n"
     ]
    }
   ],
   "source": [
    "team_db = cl.fix_excessive_names(t_names, team_db)"
   ]
  },
  {
   "cell_type": "markdown",
   "metadata": {},
   "source": [
    "### b) Fix all problems necessary for ind_db"
   ]
  },
  {
   "cell_type": "code",
   "execution_count": 11,
   "metadata": {},
   "outputs": [
    {
     "name": "stdout",
     "output_type": "stream",
     "text": [
      "Currently working on code: TRE-JON\n",
      "Type - 0 to use code: Jonas Treder\n",
      "Type - 1 to use code: Jonas Tredor\n",
      "Type your selection: 0\n",
      "\n",
      "\n"
     ]
    }
   ],
   "source": [
    "ind_db = cl.fix_excessive_names(ind_names, ind_db)"
   ]
  },
  {
   "cell_type": "code",
   "execution_count": 12,
   "metadata": {},
   "outputs": [
    {
     "name": "stdout",
     "output_type": "stream",
     "text": [
      "Currently working on : Simon Gallas\n",
      "Type - 0 to use code: 5\n",
      "Type - 1 to use code: 8309\n",
      "Type your selection: 1\n",
      "\n",
      "\n",
      "Currently working on : Leon Dervisaj\n",
      "Type - 0 to use code: 8430\n",
      "Type - 1 to use code: DER-LEO\n",
      "Type your selection: 0\n",
      "\n",
      "\n",
      "Currently working on : Thomas Ranner\n",
      "Type - 0 to use code: RAN-THO\n",
      "Type - 1 to use code: Ran-Tho\n",
      "Type your selection: 0\n",
      "\n",
      "\n",
      "Currently working on : Theo Mohwinkel\n",
      "Type - 0 to use code: MOH-THE\n",
      "Type - 1 to use code: Moh-The\n",
      "Type - 2 to use code: 99\n",
      "Type your selection: 0\n",
      "\n",
      "\n",
      "Currently working on : Linus Engelmann\n",
      "Type - 0 to use code: ENG-LIN\n",
      "Type - 1 to use code: 7870\n",
      "Type your selection: 1\n",
      "\n",
      "\n",
      "Currently working on : Moritz Malcher\n",
      "Type - 0 to use code: AAA-AAA\n",
      "Type - 1 to use code: MOR_MAL\n",
      "Type your selection: 1\n",
      "\n",
      "\n"
     ]
    }
   ],
   "source": [
    "ind_db = cl.fix_excessive_codes(ind_codes, ind_db)"
   ]
  },
  {
   "cell_type": "markdown",
   "metadata": {},
   "source": [
    "# 4) Check data consistency again to be sure"
   ]
  },
  {
   "cell_type": "code",
   "execution_count": 13,
   "metadata": {},
   "outputs": [
    {
     "name": "stdout",
     "output_type": "stream",
     "text": [
      "Inspection result:\n",
      "N of teams based on unique codes = 11\n",
      "N of teams based on unique names = 11\n"
     ]
    }
   ],
   "source": [
    "cl.check_df_consistency(team_db)"
   ]
  },
  {
   "cell_type": "code",
   "execution_count": 15,
   "metadata": {},
   "outputs": [
    {
     "name": "stdout",
     "output_type": "stream",
     "text": [
      "Inspection result:\n",
      "N of players based on unique codes = 167\n",
      "N of players based on unique names = 167\n"
     ]
    }
   ],
   "source": [
    "cl.check_df_consistency(ind_db)"
   ]
  },
  {
   "cell_type": "markdown",
   "metadata": {},
   "source": [
    "### a) check alignment of team names in individual database"
   ]
  },
  {
   "cell_type": "code",
   "execution_count": 22,
   "metadata": {},
   "outputs": [
    {
     "data": {
      "text/plain": [
       "11"
      ]
     },
     "execution_count": 22,
     "metadata": {},
     "output_type": "execute_result"
    }
   ],
   "source": [
    "len(ind_db['Team'].unique())"
   ]
  },
  {
   "cell_type": "code",
   "execution_count": 19,
   "metadata": {},
   "outputs": [],
   "source": [
    "cl.align_team_names_ind(team_db, ind_db)"
   ]
  },
  {
   "cell_type": "code",
   "execution_count": 20,
   "metadata": {},
   "outputs": [
    {
     "data": {
      "text/plain": [
       "11"
      ]
     },
     "execution_count": 20,
     "metadata": {},
     "output_type": "execute_result"
    }
   ],
   "source": [
    "len(ind_db['Team'].unique())"
   ]
  },
  {
   "cell_type": "markdown",
   "metadata": {},
   "source": [
    "# 5) Export cleaned data to excel file"
   ]
  },
  {
   "cell_type": "code",
   "execution_count": 21,
   "metadata": {},
   "outputs": [],
   "source": [
    "cl.export_database(ind_db, team_db, 'Final')"
   ]
  }
 ],
 "metadata": {
  "kernelspec": {
   "display_name": "Python 3",
   "language": "python",
   "name": "python3"
  },
  "language_info": {
   "codemirror_mode": {
    "name": "ipython",
    "version": 3
   },
   "file_extension": ".py",
   "mimetype": "text/x-python",
   "name": "python",
   "nbconvert_exporter": "python",
   "pygments_lexer": "ipython3",
   "version": "3.7.3"
  }
 },
 "nbformat": 4,
 "nbformat_minor": 4
}
