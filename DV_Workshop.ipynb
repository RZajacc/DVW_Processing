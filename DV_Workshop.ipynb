{
 "cells": [
  {
   "cell_type": "code",
   "execution_count": 1,
   "metadata": {},
   "outputs": [],
   "source": [
    "import glob\n",
    "from DV_Toolbox import DV_Process_Toolbox as dv4_tools"
   ]
  },
  {
   "cell_type": "markdown",
   "metadata": {},
   "source": [
    "## 1) Directories"
   ]
  },
  {
   "cell_type": "markdown",
   "metadata": {},
   "source": [
    "### a) Files directory"
   ]
  },
  {
   "cell_type": "code",
   "execution_count": 2,
   "metadata": {},
   "outputs": [],
   "source": [
    "pathList = glob.glob('*.dvw')"
   ]
  },
  {
   "cell_type": "markdown",
   "metadata": {},
   "source": [
    "### b) Output directory"
   ]
  },
  {
   "cell_type": "code",
   "execution_count": 3,
   "metadata": {},
   "outputs": [],
   "source": [
    "output_dir = 'Output_scouts/'"
   ]
  },
  {
   "cell_type": "markdown",
   "metadata": {},
   "source": [
    "## 2) Cleaining scoutfiles of unwanted data"
   ]
  },
  {
   "cell_type": "markdown",
   "metadata": {},
   "source": [
    "Clearing in new version WORKSHOP"
   ]
  },
  {
   "cell_type": "raw",
   "metadata": {},
   "source": [
    "# Clear all scouts that needs to be cleared\n",
    "for file in pathList:\n",
    "    dv4_tools.clear_scout_file(file, output_dir,'_clr')"
   ]
  },
  {
   "cell_type": "markdown",
   "metadata": {},
   "source": [
    "# 3) Add new custom codes with game phases"
   ]
  },
  {
   "cell_type": "raw",
   "metadata": {},
   "source": [
    "# Add phases to a scout file\n",
    "for file in pathList:\n",
    "    dv4_tools.assign_game_phases(file, output_dir, '_up')"
   ]
  },
  {
   "cell_type": "markdown",
   "metadata": {},
   "source": [
    "# 4) Change video paths in scoutfiles"
   ]
  },
  {
   "cell_type": "markdown",
   "metadata": {},
   "source": [
    "### a) List of directories to update"
   ]
  },
  {
   "cell_type": "raw",
   "metadata": {},
   "source": [
    "lucio_dir = 'D:\\\\Bundesliga 21 22 Videos\\\\'"
   ]
  },
  {
   "cell_type": "raw",
   "metadata": {},
   "source": [
    "cedric_dir = 'c:\\\\DVS_VIDEO\\\\Bundesliga\\\\'"
   ]
  },
  {
   "cell_type": "raw",
   "metadata": {},
   "source": [
    "my_dir = 'D:\\\\Season 21-22\\\\6_CL_Prep\\\\'"
   ]
  },
  {
   "cell_type": "markdown",
   "metadata": {},
   "source": [
    "### b) Update all scoutfiles (to avoid mess changed to Markdown when not used)"
   ]
  },
  {
   "cell_type": "raw",
   "metadata": {},
   "source": [
    "# Change paths into new ones\n",
    "for file in pathList:\n",
    "    dv4_tools.change_video_path(file, output_dir, lucio_dir, '_LO')"
   ]
  },
  {
   "cell_type": "raw",
   "metadata": {},
   "source": [
    "# Change paths into new ones\n",
    "for file in pathList:\n",
    "    dv4_tools.change_video_path(file, path_video, cedric_dir, '_CE')"
   ]
  },
  {
   "cell_type": "raw",
   "metadata": {},
   "source": [
    "# Change paths into new ones\n",
    "for file in pathList:\n",
    "    dv4_tools.change_video_path(file, path_video, my_dir)"
   ]
  }
 ],
 "metadata": {
  "kernelspec": {
   "display_name": "Python 3 (ipykernel)",
   "language": "python",
   "name": "python3"
  },
  "language_info": {
   "codemirror_mode": {
    "name": "ipython",
    "version": 3
   },
   "file_extension": ".py",
   "mimetype": "text/x-python",
   "name": "python",
   "nbconvert_exporter": "python",
   "pygments_lexer": "ipython3",
   "version": "3.7.11"
  }
 },
 "nbformat": 4,
 "nbformat_minor": 4
}
